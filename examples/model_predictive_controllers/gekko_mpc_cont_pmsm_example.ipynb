{
 "cells": [
  {
   "cell_type": "markdown",
   "metadata": {},
   "source": [
    "# PMSM MPC dq current control"
   ]
  },
  {
   "cell_type": "code",
   "execution_count": 1,
   "metadata": {},
   "outputs": [],
   "source": [
    "!pip install -q git+https://github.com/upb-lea/gym-electric-motor.git gekko"
   ]
  },
  {
   "cell_type": "code",
   "execution_count": 2,
   "metadata": {},
   "outputs": [
    {
     "name": "stderr",
     "output_type": "stream",
     "text": [
      "/home/wilhelmk/tools/anaconda3/envs/tf-cpu/lib/python3.7/site-packages/gym/logger.py:30: UserWarning: \u001b[33mWARN: Box bound precision lowered by casting to float32\u001b[0m\n",
      "  warnings.warn(colorize('%s: %s'%('WARN', msg % args), 'yellow'))\n"
     ]
    }
   ],
   "source": [
    "import numpy as np\n",
    "import math\n",
    "import gym_electric_motor as gem\n",
    "from gekko import GEKKO\n",
    "from gym_electric_motor.physical_systems import ConstantSpeedLoad\n",
    "from gym_electric_motor.physical_systems import PhysicalSystem\n",
    "from gym_electric_motor import reference_generators as rg\n",
    "from gym_electric_motor.reference_generators import MultipleReferenceGenerator, SwitchedReferenceGenerator, \\\n",
    "        TriangularReferenceGenerator, WienerProcessReferenceGenerator, StepReferenceGenerator, \\\n",
    "        SinusoidalReferenceGenerator, ConstReferenceGenerator \n",
    "from gym_electric_motor.visualization.motor_dashboard import MotorDashboard"
   ]
  },
  {
   "cell_type": "markdown",
   "metadata": {},
   "source": [
    "Definition of a general controller class"
   ]
  },
  {
   "cell_type": "code",
   "execution_count": 3,
   "metadata": {},
   "outputs": [],
   "source": [
    "class Controller:\n",
    "\n",
    "    @classmethod\n",
    "    def make(cls, controller_type, environment, **controller_kwargs):\n",
    "        assert controller_type in _controllers.keys(), f'Controller {controller_type} unknown'\n",
    "        controller = _controllers[controller_type](environment, **controller_kwargs)\n",
    "        return controller\n",
    "\n",
    "    def control(self, state, reference):\n",
    "        raise NotImplementedError\n",
    "\n",
    "    def reset(self):\n",
    "        pass"
   ]
  },
  {
   "cell_type": "markdown",
   "metadata": {},
   "source": [
    "Defenition of the MPC class"
   ]
  },
  {
   "cell_type": "code",
   "execution_count": 4,
   "metadata": {},
   "outputs": [],
   "source": [
    "class MPC(Controller):\n",
    "    def __init__(self, environment, ph=5, ref_idx_q=0, ref_idx_d=1):\n",
    "        # conversion of the coordinate systems\n",
    "        t32 = environment.physical_system.electrical_motor.t_32\n",
    "        q = environment.physical_system.electrical_motor.q\n",
    "        self._backward_transformation = (lambda quantities, eps: t32(q(quantities[::-1], eps)))\n",
    "    \n",
    "        # indices\n",
    "        self.ref_idx_i_q = ref_idx_q\n",
    "        self.ref_idx_i_d = ref_idx_d\n",
    "        self.current_idx = environment.physical_system.CURRENTS_IDX\n",
    "        self.voltage_idx = environment.physical_system.VOLTAGES_IDX\n",
    "        self.i_sq_idx = self.current_idx[3]\n",
    "        self.i_sd_idx = self.current_idx[4]\n",
    "        self.u_a_idx = self.voltage_idx[0]\n",
    "        self.u_b_idx = self.voltage_idx[1]\n",
    "        self.u_c_idx = self.voltage_idx[2]\n",
    "        self.u_sq_idx = self.voltage_idx[3]\n",
    "        self.u_sd_idx = self.voltage_idx[4]\n",
    "        self.omega_idx = environment.physical_system.OMEGA_IDX\n",
    "        self.epsilon_idx = environment.physical_system.EPSILON_IDX\n",
    "\n",
    "        # motor parameters\n",
    "        self.tau = environment.physical_system.tau\n",
    "        self.limits = environment.physical_system.limits\n",
    "        self.l_q = environment.physical_system.electrical_motor.motor_parameter['l_q']\n",
    "        self.l_d = environment.physical_system.electrical_motor.motor_parameter['l_d']\n",
    "        self.psi_ = environment.physical_system.electrical_motor.motor_parameter['psi_p']\n",
    "        self.r_s = environment.physical_system.electrical_motor.motor_parameter['r_s']\n",
    "        self.p = environment.physical_system.electrical_motor.motor_parameter['p']\n",
    "        self.ph_ = ph\n",
    "\n",
    "\n",
    "    def control(self, state, reference):\n",
    "        # initialize variables\n",
    "        epsilon_el = state[self.epsilon_idx] * self.limits[self.epsilon_idx]\n",
    "        omega = self.p * state[self.omega_idx] * self.limits[self.omega_idx]\n",
    "\n",
    "        ref_q = []\n",
    "        ref_d = []\n",
    "        eps = []\n",
    "        lim_a_up = []\n",
    "        lim_a_low = []\n",
    "        \n",
    "        for i in range(self.ph_):\n",
    "            ref_q.append(reference[self.ref_idx_i_q] * self.limits[self.i_sq_idx])\n",
    "            ref_d.append(reference[self.ref_idx_i_d] * self.limits[self.i_sd_idx])\n",
    "         \n",
    "            eps.append(epsilon_el + (i-1) * self.tau * omega)\n",
    "            lim_a_up.append(2 * self.limits[self.u_a_idx])\n",
    "            lim_a_low.append(-2 * self.limits[self.u_a_idx])\n",
    "        \n",
    "        m = GEKKO(remote=False)\n",
    "        \n",
    "        # defenition of the prediction Horizon\n",
    "        m.time = np.linspace(self.tau, self.tau * self.ph_, self.ph_)\n",
    "\n",
    "        # defenition of the variables\n",
    "        u_d = m.MV(value=state[self.u_sd_idx] * self.limits[self.u_sd_idx])\n",
    "        u_q = m.MV(value=state[self.u_sq_idx] * self.limits[self.u_sq_idx])\n",
    "        u_d.STATUS = 1\n",
    "        u_q.STATUS = 1\n",
    "\n",
    "        u_a_lim_up = m.Param(value=lim_a_up)\n",
    "        u_a_lim_low = m.Param(value=lim_a_low)\n",
    "        sq3 = math.sqrt(3)\n",
    "\n",
    "        i_d = m.SV(value=state[self.i_sd_idx] * self.limits[self.i_sd_idx], lb=-self.limits[self.i_sd_idx], ub=self.limits[self.i_sd_idx] )\n",
    "        i_q = m.SV(value=state[self.i_sq_idx] * self.limits[self.i_sq_idx], lb=-self.limits[self.i_sq_idx], ub=self.limits[self.i_sq_idx])\n",
    "\n",
    "        epsilon = m.Param(value=eps)\n",
    "        \n",
    "        # reference trajectory\n",
    "        traj_d = m.Param(value=ref_d)\n",
    "        traj_q = m.Param(value=ref_q)\n",
    "        \n",
    "        # defenition of the constants\n",
    "        omega = m.Const(value=omega)\n",
    "        psi = m.Const(value=self.psi_)\n",
    "        rs = m.Const(value=self.r_s)\n",
    "        ld = m.Const(value=self.l_d)\n",
    "        lq = m.Const(value=self.l_q)\n",
    "        \n",
    "        # control error\n",
    "        e_d = m.CV()\n",
    "        e_q = m.CV()\n",
    "        e_d.STATUS = 1\n",
    "        e_q.STATUS = 1\n",
    "        \n",
    "        # solver options\n",
    "        m.options.CV_TYPE = 2\n",
    "        m.options.IMODE = 6\n",
    "        m.options.solver = 3\n",
    "        m.options.WEB = 0\n",
    "        m.options.NODES = 2\n",
    "        \n",
    "        # differential equations\n",
    "        m.Equations([ld * i_d.dt() == u_d - rs * i_d + omega * lq * i_q,\n",
    "                     lq * i_q.dt() == u_q - rs * i_q - omega * ld * i_d - omega * psi])\n",
    "        \n",
    "        # cost function\n",
    "        m.Equations([e_d == (i_d - traj_d), e_q == (i_q - traj_q)])\n",
    "        \n",
    "        # voltage limitations\n",
    "        m.Equation(u_a_lim_up >= 3/2 * m.cos(epsilon) * u_d - 3/2 * m.sin(epsilon) * u_q - sq3/2 * m.sin(epsilon) * u_d - sq3/2 * m.cos(epsilon) * u_q)\n",
    "        m.Equation(u_a_lim_low <= 3 / 2 * m.cos(epsilon) * u_d - 3 / 2 * m.sin(epsilon) * u_q - sq3 / 2 * m.sin(epsilon) * u_d - sq3 / 2 * m.cos(epsilon) * u_q)\n",
    "        m.Equation(u_a_lim_up >= sq3 * m.sin(epsilon) * u_d + sq3 * m.cos(epsilon) * u_q)\n",
    "        m.Equation(u_a_lim_low <= sq3 * m.sin(epsilon) * u_d + sq3 * m.cos(epsilon) * u_q)\n",
    "        m.Equation(u_a_lim_up >= -3 / 2 * m.cos(epsilon) * u_d + 3 / 2 * m.sin(epsilon) * u_q - sq3 / 2 * m.sin(epsilon) * u_d - sq3 / 2 * m.cos(epsilon) * u_q)\n",
    "        m.Equation(u_a_lim_low <= -3 / 2 * m.cos(epsilon) * u_d + 3 / 2 * m.sin(epsilon) * u_q - sq3 / 2 * m.sin(epsilon) * u_d - sq3 / 2 * m.cos(epsilon) * u_q)\n",
    "        \n",
    "        # object to minimize\n",
    "        m.Obj(e_d)\n",
    "        m.Obj(e_q)\n",
    "        \n",
    "        # solving optimization problem\n",
    "        m.solve(disp=False)\n",
    "        \n",
    "        # additional voltage limitation\n",
    "        u_a, u_b, u_c = self._backward_transformation((u_q.NEWVAL, u_d.NEWVAL), epsilon_el)\n",
    "        u_max = max(np.absolute(u_a - u_b), np.absolute(u_b - u_c), np.absolute(u_c - u_a))\n",
    "        if u_max >= 2 * self.limits[self.u_a_idx]:\n",
    "            u_a = u_a / u_max * 2 * self.limits[self.u_a_idx]\n",
    "            u_b = u_b / u_max * 2 * self.limits[self.u_a_idx]\n",
    "            u_c = u_c / u_max * 2 * self.limits[self.u_a_idx]\n",
    "        \n",
    "        # Zero Point Shift\n",
    "        u_0 = 0.5 * (max(u_a, u_b, u_c) + min(u_a, u_b, u_c))\n",
    "        u_a -= u_0\n",
    "        u_b -= u_0\n",
    "        u_c -= u_0\n",
    "        \n",
    "        # normalization of the manipulated variables\n",
    "        u_a /= self.limits[self.u_a_idx]\n",
    "        u_b /= self.limits[self.u_b_idx]\n",
    "        u_c /= self.limits[self.u_c_idx]\n",
    "        \n",
    "        return u_a, u_b, u_c\n",
    "\n",
    "    def reset(self):\n",
    "        pass\n",
    "\n",
    "\n",
    "_controllers = {\n",
    "    'mpc': MPC\n",
    "}"
   ]
  },
  {
   "cell_type": "markdown",
   "metadata": {},
   "source": [
    "Setting parameters of the motor"
   ]
  },
  {
   "cell_type": "code",
   "execution_count": 5,
   "metadata": {},
   "outputs": [],
   "source": [
    "motor_parameter = dict(r_s=15e-3, l_d=0.37e-3, l_q=1.2e-3, psi_p=65.6e-3, p=3, j_rotor=0.06)\n",
    "limit_values = dict(i=160 * 1.41, omega=12000 * np.pi / 30, u=450)\n",
    "nominal_values = {key: 0.7 * limit for key, limit in limit_values.items()}\n",
    "\n",
    "q_generator = SwitchedReferenceGenerator(\n",
    "        sub_generators=[\n",
    "            TriangularReferenceGenerator(reference_state='i_sq', amplitude_range=(0, 1), offset_range=(0, 0.8)),\n",
    "            WienerProcessReferenceGenerator(reference_state='i_sq'),\n",
    "            StepReferenceGenerator(reference_state='i_sq', amplitude_range=(0, 1), offset_range=(0, 1)),\n",
    "            SinusoidalReferenceGenerator(reference_state='i_sq', amplitude_range=(0, 1), offset_range=(0, 0.8))],\n",
    "        p=[0.3, 0.2, 0.3, 0.2], super_episode_length=(1000, 10000)\n",
    "    )\n",
    "\n",
    "d_generator = SwitchedReferenceGenerator(\n",
    "        sub_generators=[\n",
    "            TriangularReferenceGenerator(reference_state='i_sd', amplitude_range=(0, 0.6), offset_range=(0, 0.5)),\n",
    "            WienerProcessReferenceGenerator(reference_state='i_sd'),\n",
    "            StepReferenceGenerator(reference_state='i_sd', amplitude_range=(0, 0.8), offset_range=(0, 0.6)),\n",
    "            SinusoidalReferenceGenerator(reference_state='i_sd', amplitude_range=(0, 0.6), offset_range=(0, 0.5)),\n",
    "            ConstReferenceGenerator(reference_state='i_sd', value=0)],\n",
    "        p=[0.25, 0.1, 0.25, 0.2, 0.2], super_episode_length=(1000, 10000)\n",
    "    )\n",
    "\n",
    "reference_generator = MultipleReferenceGenerator([q_generator, d_generator])"
   ]
  },
  {
   "cell_type": "markdown",
   "metadata": {},
   "source": [
    "Initialization of the pmsm and the controller"
   ]
  },
  {
   "cell_type": "code",
   "execution_count": 6,
   "metadata": {},
   "outputs": [],
   "source": [
    "env = gem.make('emotor-pmsm-cont-v1',\n",
    "            visualization=MotorDashboard(plots=['i_sq', 'i_sd', 'reward']),#, visu_period=1,\n",
    "            load=ConstantSpeedLoad(omega_fixed=1000 * np.pi / 30),\n",
    "            ode_solver='scipy.solve_ivp', solver_kwargs={},\n",
    "            reference_generator=reference_generator,\n",
    "            plotted_variables=['i_sq', 'i_sd', 'u_sq', 'u_sd'],\n",
    "            reward_function='WSE',\n",
    "            reward_weights={'i_sq': 1, 'i_sd': 1},\n",
    "            reward_power=0.5,\n",
    "            observed_states=['i_sq', 'i_sd'],\n",
    "            dead_time=False,\n",
    "            u_sup=400,\n",
    "            motor_parameter=motor_parameter,\n",
    "            limit_values=limit_values,\n",
    "            nominal_values=nominal_values       \n",
    "    )\n",
    "\n",
    "controller = Controller.make('mpc', env, ph=3)"
   ]
  },
  {
   "cell_type": "markdown",
   "metadata": {},
   "source": [
    "Running the control"
   ]
  },
  {
   "cell_type": "code",
   "execution_count": 7,
   "metadata": {},
   "outputs": [
    {
     "data": {
      "image/png": "[encoded data removed]",
      "text/plain": [
       "<Figure size 432x288 with 3 Axes>"
      ]
     },
     "metadata": {
      "needs_background": "light"
     },
     "output_type": "display_data"
    },
    {
     "ename": "Exception",
     "evalue": "@error: Solution Not Found\n",
     "output_type": "error",
     "traceback": [
      "\u001b[0;31m---------------------------------------------------------------------------\u001b[0m",
      "\u001b[0;31mException\u001b[0m                                 Traceback (most recent call last)",
      "\u001b[0;32m<ipython-input-7-d14aa13f77d9>\u001b[0m in \u001b[0;36m<module>\u001b[0;34m\u001b[0m\n\u001b[1;32m      4\u001b[0m \u001b[0;32mfor\u001b[0m \u001b[0mi\u001b[0m \u001b[0;32min\u001b[0m \u001b[0mrange\u001b[0m\u001b[0;34m(\u001b[0m\u001b[0mint\u001b[0m\u001b[0;34m(\u001b[0m\u001b[0;36m1e4\u001b[0m\u001b[0;34m)\u001b[0m\u001b[0;34m)\u001b[0m\u001b[0;34m:\u001b[0m\u001b[0;34m\u001b[0m\u001b[0;34m\u001b[0m\u001b[0m\n\u001b[1;32m      5\u001b[0m     \u001b[0menv\u001b[0m\u001b[0;34m.\u001b[0m\u001b[0mrender\u001b[0m\u001b[0;34m(\u001b[0m\u001b[0;34m)\u001b[0m\u001b[0;34m\u001b[0m\u001b[0;34m\u001b[0m\u001b[0m\n\u001b[0;32m----> 6\u001b[0;31m     \u001b[0maction\u001b[0m \u001b[0;34m=\u001b[0m \u001b[0mcontroller\u001b[0m\u001b[0;34m.\u001b[0m\u001b[0mcontrol\u001b[0m\u001b[0;34m(\u001b[0m\u001b[0mstate\u001b[0m\u001b[0;34m,\u001b[0m \u001b[0mreference\u001b[0m\u001b[0;34m)\u001b[0m\u001b[0;34m\u001b[0m\u001b[0;34m\u001b[0m\u001b[0m\n\u001b[0m\u001b[1;32m      7\u001b[0m     \u001b[0;34m(\u001b[0m\u001b[0mstate\u001b[0m\u001b[0;34m,\u001b[0m \u001b[0mreference\u001b[0m\u001b[0;34m)\u001b[0m\u001b[0;34m,\u001b[0m \u001b[0mreward\u001b[0m\u001b[0;34m,\u001b[0m \u001b[0mdone\u001b[0m\u001b[0;34m,\u001b[0m \u001b[0m_\u001b[0m \u001b[0;34m=\u001b[0m \u001b[0menv\u001b[0m\u001b[0;34m.\u001b[0m\u001b[0mstep\u001b[0m\u001b[0;34m(\u001b[0m\u001b[0maction\u001b[0m\u001b[0;34m)\u001b[0m\u001b[0;34m\u001b[0m\u001b[0;34m\u001b[0m\u001b[0m\n\u001b[1;32m      8\u001b[0m     \u001b[0mcum_rew\u001b[0m \u001b[0;34m+=\u001b[0m \u001b[0mreward\u001b[0m\u001b[0;34m\u001b[0m\u001b[0;34m\u001b[0m\u001b[0m\n",
      "\u001b[0;32m<ipython-input-4-aad981e2398f>\u001b[0m in \u001b[0;36mcontrol\u001b[0;34m(self, state, reference)\u001b[0m\n\u001b[1;32m    115\u001b[0m \u001b[0;34m\u001b[0m\u001b[0m\n\u001b[1;32m    116\u001b[0m         \u001b[0;31m# solving optimization problem\u001b[0m\u001b[0;34m\u001b[0m\u001b[0;34m\u001b[0m\u001b[0;34m\u001b[0m\u001b[0m\n\u001b[0;32m--> 117\u001b[0;31m         \u001b[0mm\u001b[0m\u001b[0;34m.\u001b[0m\u001b[0msolve\u001b[0m\u001b[0;34m(\u001b[0m\u001b[0mdisp\u001b[0m\u001b[0;34m=\u001b[0m\u001b[0;32mFalse\u001b[0m\u001b[0;34m)\u001b[0m\u001b[0;34m\u001b[0m\u001b[0;34m\u001b[0m\u001b[0m\n\u001b[0m\u001b[1;32m    118\u001b[0m \u001b[0;34m\u001b[0m\u001b[0m\n\u001b[1;32m    119\u001b[0m         \u001b[0;31m# additional voltage limitation\u001b[0m\u001b[0;34m\u001b[0m\u001b[0;34m\u001b[0m\u001b[0;34m\u001b[0m\u001b[0m\n",
      "\u001b[0;32m~/tools/anaconda3/envs/tf-cpu/lib/python3.7/site-packages/gekko/gekko.py\u001b[0m in \u001b[0;36msolve\u001b[0;34m(self, disp, debug, GUI, **kwargs)\u001b[0m\n\u001b[1;32m   2128\u001b[0m                 \u001b[0mprint\u001b[0m\u001b[0;34m(\u001b[0m\u001b[0;34m\"Error:\"\u001b[0m\u001b[0;34m,\u001b[0m \u001b[0merrs\u001b[0m\u001b[0;34m)\u001b[0m\u001b[0;34m\u001b[0m\u001b[0;34m\u001b[0m\u001b[0m\n\u001b[1;32m   2129\u001b[0m             \u001b[0;32mif\u001b[0m \u001b[0;34m(\u001b[0m\u001b[0mdebug\u001b[0m \u001b[0;34m>=\u001b[0m \u001b[0;36m1\u001b[0m\u001b[0;34m)\u001b[0m \u001b[0;32mand\u001b[0m \u001b[0mrecord_error\u001b[0m\u001b[0;34m:\u001b[0m\u001b[0;34m\u001b[0m\u001b[0;34m\u001b[0m\u001b[0m\n\u001b[0;32m-> 2130\u001b[0;31m                 \u001b[0;32mraise\u001b[0m \u001b[0mException\u001b[0m\u001b[0;34m(\u001b[0m\u001b[0mapm_error\u001b[0m\u001b[0;34m)\u001b[0m\u001b[0;34m\u001b[0m\u001b[0;34m\u001b[0m\u001b[0m\n\u001b[0m\u001b[1;32m   2131\u001b[0m \u001b[0;34m\u001b[0m\u001b[0m\n\u001b[1;32m   2132\u001b[0m         \u001b[0;32melse\u001b[0m\u001b[0;34m:\u001b[0m \u001b[0;31m#solve on APM server\u001b[0m\u001b[0;34m\u001b[0m\u001b[0;34m\u001b[0m\u001b[0m\n",
      "\u001b[0;31mException\u001b[0m: @error: Solution Not Found\n"
     ]
    }
   ],
   "source": [
    "state, reference = env.reset()\n",
    "cum_rew = 0\n",
    "    \n",
    "for i in range(int(1e4)):\n",
    "    env.render()\n",
    "    action = controller.control(state, reference)\n",
    "    (state, reference), reward, done, _ = env.step(action)\n",
    "    cum_rew += reward\n",
    "    if done:\n",
    "        env.reset()\n",
    "        \n",
    "print('Reward =', cum_rew)\n",
    "env.close()"
   ]
  },
  {
   "cell_type": "code",
   "execution_count": null,
   "metadata": {},
   "outputs": [],
   "source": []
  }
 ],
 "metadata": {
  "kernelspec": {
   "display_name": "Python 3",
   "language": "python",
   "name": "python3"
  },
  "language_info": {
   "codemirror_mode": {
    "name": "ipython",
    "version": 3
   },
   "file_extension": ".py",
   "mimetype": "text/x-python",
   "name": "python",
   "nbconvert_exporter": "python",
   "pygments_lexer": "ipython3",
   "version": "3.7.7"
  }
 },
 "nbformat": 4,
 "nbformat_minor": 4
}
